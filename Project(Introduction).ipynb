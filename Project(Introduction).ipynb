{
 "cells": [
  {
   "cell_type": "markdown",
   "metadata": {},
   "source": [
    "# New Commercial opening\n",
    "## Project's study\n",
    "### Introduction\n",
    "An Italian entrepreneur wants to invest his wealth in the catering sector by opening a new restaurant. In particular, he wants to open his own restaurant in the province of Milan, excluding the city of Milan where the market is already saturated. Furthermore, the entrepreneur has not yet decided whether to open a restaurant (Italian or ethnic cuisine), a pub, a pizza or a fast food restaurant and for this reason he has commissioned the development of a study to identify the best place for this new opening."
   ]
  },
  {
   "cell_type": "code",
   "execution_count": null,
   "metadata": {},
   "outputs": [],
   "source": []
  }
 ],
 "metadata": {
  "kernelspec": {
   "display_name": "Python 3",
   "language": "python",
   "name": "python3"
  },
  "language_info": {
   "codemirror_mode": {
    "name": "ipython",
    "version": 3
   },
   "file_extension": ".py",
   "mimetype": "text/x-python",
   "name": "python",
   "nbconvert_exporter": "python",
   "pygments_lexer": "ipython3",
   "version": "3.7.6"
  }
 },
 "nbformat": 4,
 "nbformat_minor": 4
}
