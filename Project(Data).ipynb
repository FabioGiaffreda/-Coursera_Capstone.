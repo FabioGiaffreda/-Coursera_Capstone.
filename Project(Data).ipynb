{
 "cells": [
  {
   "cell_type": "markdown",
   "metadata": {},
   "source": [
    "# New Commercial opening\n",
    "## Project's study\n",
    "### Introduction\n",
    "An Italian entrepreneur wants to invest his wealth in the catering sector by opening a new restaurant. In particular, he wants to open his own restaurant in the province of Milan, excluding the city of Milan where the market is already saturated. Furthermore, the entrepreneur has not yet decided whether to open a restaurant (Italian or ethnic cuisine), a pub, a pizza or a fast food restaurant and for this reason he has commissioned the development of a study to identify the best place for this new opening.\n",
    "### Data"
   ]
  },
  {
   "cell_type": "markdown",
   "metadata": {},
   "source": [
    "The data used for this study refer to a database containing the municipalities of the province of Milan, to which the geographical coordinates have been added. These geographical coordinates have been used as a reference point to identify all the activities present within a radius of 10 km through the Foursquare service, taking into consideration only the activities of our interest (Restaurants, pubs, pizza and fast food restaurants). To choose the optimal place, another database (Elaborated by the Lombardy Region) was used relating to the population, by year of age, of the province of Milan as of 31/12/2019. In particular, it was assumed that the population aged between 15 and 30 could correspond to the clientele of a fast food, the population aged 18-40 could correspond to the clientele of a pub or pizza restaurant, that of 40-65 years was the clientele of a classic restaurant (Italian or ethnic)."
   ]
  },
  {
   "cell_type": "code",
   "execution_count": null,
   "metadata": {},
   "outputs": [],
   "source": []
  }
 ],
 "metadata": {
  "kernelspec": {
   "display_name": "Python 3",
   "language": "python",
   "name": "python3"
  },
  "language_info": {
   "codemirror_mode": {
    "name": "ipython",
    "version": 3
   },
   "file_extension": ".py",
   "mimetype": "text/x-python",
   "name": "python",
   "nbconvert_exporter": "python",
   "pygments_lexer": "ipython3",
   "version": "3.7.6"
  }
 },
 "nbformat": 4,
 "nbformat_minor": 4
}
